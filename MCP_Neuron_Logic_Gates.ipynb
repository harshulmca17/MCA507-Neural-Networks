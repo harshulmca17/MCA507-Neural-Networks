{
  "nbformat": 4,
  "nbformat_minor": 0,
  "metadata": {
    "colab": {
      "name": "MCP_Neuron_Logic_Gates.ipynb",
      "version": "0.3.2",
      "provenance": [],
      "collapsed_sections": [],
      "include_colab_link": true
    },
    "kernelspec": {
      "name": "python3",
      "display_name": "Python 3"
    }
  },
  "cells": [
    {
      "cell_type": "markdown",
      "metadata": {
        "id": "view-in-github",
        "colab_type": "text"
      },
      "source": [
        "<a href=\"https://colab.research.google.com/github/jayant-dhawan/MCA507-Neural-Networks/blob/master/MCP_Neuron_Logic_Gates.ipynb\" target=\"_parent\"><img src=\"https://colab.research.google.com/assets/colab-badge.svg\" alt=\"Open In Colab\"/></a>"
      ]
    },
    {
      "cell_type": "code",
      "metadata": {
        "id": "-wIuxXGXCwtr",
        "colab_type": "code",
        "colab": {}
      },
      "source": [
        "import numpy\n",
        "import pandas\n",
        "import itertools"
      ],
      "execution_count": 0,
      "outputs": []
    },
    {
      "cell_type": "code",
      "metadata": {
        "id": "CDpgSBqaDMEE",
        "colab_type": "code",
        "colab": {}
      },
      "source": [
        "class Neuron(object):\n",
        "  def __init__(self, inputs = 2, inhibitoryInputs = [0,0], threshold = 1):\n",
        "    if(inputs != len(inhibitoryInputs)):\n",
        "      print(\"Error\")\n",
        "      exit\n",
        "    \n",
        "    inhibition = [] # Adding negetive weight to inibitory inputs.\n",
        "    for i in inhibitoryInputs:\n",
        "      if i == 1:\n",
        "        inhibition.append(-1)\n",
        "      else:\n",
        "        inhibition.append(1)\n",
        "    self.inputs = inputs\n",
        "    self.inhibitoryInputs = inhibition\n",
        "    self.threshold = threshold\n",
        "\n",
        "  def activateNeuron(self, input):\n",
        "    \"\"\"\n",
        "    Activate neuron for a input combination and output the result for the input.\n",
        "    g(x) for the input is calclulated means the sum of the inputs.\n",
        "    \"\"\"\n",
        "    sumOfInputs = numpy.inner(input, self.inhibitoryInputs) # Calculating sum of all the inputs.\n",
        "    if sumOfInputs >= self.threshold:\n",
        "      return 1\n",
        "    else:\n",
        "      return 0\n",
        "  \n",
        "  def drawOutput(self):\n",
        "    \"\"\"\n",
        "    Returns a table which has output for all the combinations of the input.\n",
        "    \"\"\"\n",
        "    combinations = numpy.array([list(i) for i in itertools.product([0, 1], repeat=self.inputs)]) # Finding all the combinations for the given number of inputs.\n",
        "    inputLabels = [\"x\" + str(i) for i in range(1, self.inputs+1)]\n",
        "    outputTable = pandas.DataFrame(combinations, columns = inputLabels)\n",
        "    outputLabel = \"y\"\n",
        "    outputValue = []\n",
        "    for combination in combinations:\n",
        "      outputValue.append(self.activateNeuron(combination)) # Firirng neuron for every combination of the input.\n",
        "      outputTable[outputLabel] = pandas.Series(outputValue)\n",
        "    return outputTable"
      ],
      "execution_count": 0,
      "outputs": []
    },
    {
      "cell_type": "markdown",
      "metadata": {
        "id": "gdzD3ATNX65t",
        "colab_type": "text"
      },
      "source": [
        "# Working\n",
        "\n",
        "**Inputs:**\n",
        "\n",
        "\n",
        "*   No of inputs (inputs): Number of inputs for the logic gates.\n",
        "*   Inhibitory Inputs (inhibitoryInputs): Inhibitory inputs are those that have maximum effect on the decision making irrespective of other inputs i.e., if a inhibitory input is 1 then output will always be 0 i.e., the neuron will never fire.\n",
        ">*   Set the corresponding inhibition to `0` to treat it as normal input\n",
        ">*   Set the corresponding inhibition to `1` to treat it as inhibitory input\n",
        "*   Threshold (threshold): The threshold parameter which decides the result of the neuron i.e., if the sum of all the inputs is greater than threshold it will output 1 otherwise 0.\n",
        "\n",
        "\n",
        "We treated the inhibitory input as a negative weight value, thus ensuring it will never reach threshhold value, thus output will be 0."
      ]
    },
    {
      "cell_type": "code",
      "metadata": {
        "id": "EOBf1ZrhUAXk",
        "colab_type": "code",
        "colab": {
          "base_uri": "https://localhost:8080/",
          "height": 109
        },
        "outputId": "08041975-7ddd-4f2f-9a77-9f8f66301818"
      },
      "source": [
        "# AND Gate\n",
        "inputs = 2; \n",
        "inhibitoryInputs = [0, 0]\n",
        "threshhold = 2\n",
        "print(Neuron(inputs, inhibitoryInputs, threshhold).drawOutput())"
      ],
      "execution_count": 43,
      "outputs": [
        {
          "output_type": "stream",
          "text": [
            "   x1  x2  y\n",
            "0   0   0  0\n",
            "1   0   1  0\n",
            "2   1   0  0\n",
            "3   1   1  1\n"
          ],
          "name": "stdout"
        }
      ]
    },
    {
      "cell_type": "code",
      "metadata": {
        "id": "dTlcuAbMWhzB",
        "colab_type": "code",
        "colab": {
          "base_uri": "https://localhost:8080/",
          "height": 109
        },
        "outputId": "65a5c079-42c9-47b6-df88-10e2e8557c1f"
      },
      "source": [
        "# AND Gate with inhibitory input\n",
        "inputs = 2; \n",
        "inhibitoryInputs = [0, 1]\n",
        "threshhold = 1\n",
        "print(Neuron(inputs, inhibitoryInputs, threshhold).drawOutput())"
      ],
      "execution_count": 44,
      "outputs": [
        {
          "output_type": "stream",
          "text": [
            "   x1  x2  y\n",
            "0   0   0  0\n",
            "1   0   1  0\n",
            "2   1   0  1\n",
            "3   1   1  0\n"
          ],
          "name": "stdout"
        }
      ]
    },
    {
      "cell_type": "code",
      "metadata": {
        "id": "wATAucEdWy06",
        "colab_type": "code",
        "colab": {
          "base_uri": "https://localhost:8080/",
          "height": 109
        },
        "outputId": "f10fc2d5-4bb9-4c15-afe7-7ed28a8904d5"
      },
      "source": [
        "# OR Gate\n",
        "inputs = 2; \n",
        "inhibitoryInputs = [0, 0]\n",
        "threshhold = 1\n",
        "print(Neuron(inputs, inhibitoryInputs, threshhold).drawOutput())"
      ],
      "execution_count": 45,
      "outputs": [
        {
          "output_type": "stream",
          "text": [
            "   x1  x2  y\n",
            "0   0   0  0\n",
            "1   0   1  1\n",
            "2   1   0  1\n",
            "3   1   1  1\n"
          ],
          "name": "stdout"
        }
      ]
    },
    {
      "cell_type": "code",
      "metadata": {
        "id": "cwhiuPPkW5qt",
        "colab_type": "code",
        "colab": {
          "base_uri": "https://localhost:8080/",
          "height": 109
        },
        "outputId": "49ff5a2c-8a55-4075-a600-205c9d96b9c7"
      },
      "source": [
        "# OR Gate with inhibitory input\n",
        "inputs = 2; \n",
        "inhibitoryInputs = [0, 1]\n",
        "threshhold = 1\n",
        "print(Neuron(inputs, inhibitoryInputs, threshhold).drawOutput())"
      ],
      "execution_count": 46,
      "outputs": [
        {
          "output_type": "stream",
          "text": [
            "   x1  x2  y\n",
            "0   0   0  0\n",
            "1   0   1  0\n",
            "2   1   0  1\n",
            "3   1   1  0\n"
          ],
          "name": "stdout"
        }
      ]
    },
    {
      "cell_type": "code",
      "metadata": {
        "id": "DOISdHtKXEx9",
        "colab_type": "code",
        "colab": {
          "base_uri": "https://localhost:8080/",
          "height": 72
        },
        "outputId": "e9177868-df1e-469f-e9a7-b6ce034ee96c"
      },
      "source": [
        "# NOT Gate\n",
        "inputs = 1; \n",
        "inhibitoryInputs = [1]\n",
        "threshhold = 0\n",
        "print(Neuron(inputs, inhibitoryInputs, threshhold).drawOutput())"
      ],
      "execution_count": 47,
      "outputs": [
        {
          "output_type": "stream",
          "text": [
            "   x1  y\n",
            "0   0  1\n",
            "1   1  0\n"
          ],
          "name": "stdout"
        }
      ]
    },
    {
      "cell_type": "code",
      "metadata": {
        "id": "ogG2lz4nXXV6",
        "colab_type": "code",
        "colab": {
          "base_uri": "https://localhost:8080/",
          "height": 109
        },
        "outputId": "b19b04ff-da1b-4b6d-fecc-7021951d7c92"
      },
      "source": [
        "# NAND Gate\n",
        "inputs = 2; \n",
        "inhibitoryInputs = [1, 1]\n",
        "threshhold = -1\n",
        "print(Neuron(inputs, inhibitoryInputs, threshhold).drawOutput())"
      ],
      "execution_count": 48,
      "outputs": [
        {
          "output_type": "stream",
          "text": [
            "   x1  x2  y\n",
            "0   0   0  1\n",
            "1   0   1  1\n",
            "2   1   0  1\n",
            "3   1   1  0\n"
          ],
          "name": "stdout"
        }
      ]
    },
    {
      "cell_type": "code",
      "metadata": {
        "id": "ituzYYmDXlhL",
        "colab_type": "code",
        "colab": {
          "base_uri": "https://localhost:8080/",
          "height": 109
        },
        "outputId": "2a0fd3ab-7f3c-4c36-98b2-fb1f384a3aa3"
      },
      "source": [
        "# AND Gate\n",
        "inputs = 2; \n",
        "inhibitoryInputs = [1, 1]\n",
        "threshhold = -0.5\n",
        "print(Neuron(inputs, inhibitoryInputs, threshhold).drawOutput())"
      ],
      "execution_count": 49,
      "outputs": [
        {
          "output_type": "stream",
          "text": [
            "   x1  x2  y\n",
            "0   0   0  1\n",
            "1   0   1  0\n",
            "2   1   0  0\n",
            "3   1   1  0\n"
          ],
          "name": "stdout"
        }
      ]
    },
    {
      "cell_type": "code",
      "metadata": {
        "id": "tArzled3Y6Mi",
        "colab_type": "code",
        "colab": {}
      },
      "source": [
        "# XOR gate and XNOR gate\n",
        "\n",
        "\"\"\"\n",
        "XOR and XNOR gates can't be implemented by SINGLE MCP preceptron,\n",
        "because it is not linearly separable\n",
        "\"\"\""
      ],
      "execution_count": 0,
      "outputs": []
    }
  ]
}